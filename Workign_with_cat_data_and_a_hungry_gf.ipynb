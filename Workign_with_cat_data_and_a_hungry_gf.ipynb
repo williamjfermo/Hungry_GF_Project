{
 "cells": [
  {
   "cell_type": "markdown",
   "metadata": {},
   "source": [
    "## My blog posts over dealing with categorical data and a Hungry GF"
   ]
  },
  {
   "cell_type": "code",
   "execution_count": 1,
   "metadata": {},
   "outputs": [],
   "source": [
    "#First import necessary libraries\n",
    "import pandas as pd\n",
    "import numpy as np"
   ]
  },
  {
   "cell_type": "markdown",
   "metadata": {},
   "source": [
    "Getting data regarding asking gf what she wanted to eat\n",
    "Gathered from years of experience of asking gf what she wanted to eat"
   ]
  },
  {
   "cell_type": "code",
   "execution_count": 2,
   "metadata": {},
   "outputs": [],
   "source": [
    "#import data into df\n",
    "df =pd.read_csv('decisiontree.csv')"
   ]
  },
  {
   "cell_type": "code",
   "execution_count": 3,
   "metadata": {},
   "outputs": [
    {
     "data": {
      "text/html": [
       "<div>\n",
       "<style scoped>\n",
       "    .dataframe tbody tr th:only-of-type {\n",
       "        vertical-align: middle;\n",
       "    }\n",
       "\n",
       "    .dataframe tbody tr th {\n",
       "        vertical-align: top;\n",
       "    }\n",
       "\n",
       "    .dataframe thead th {\n",
       "        text-align: right;\n",
       "    }\n",
       "</style>\n",
       "<table border=\"1\" class=\"dataframe\">\n",
       "  <thead>\n",
       "    <tr style=\"text-align: right;\">\n",
       "      <th></th>\n",
       "      <th>Do_you_want_to_eat?</th>\n",
       "      <th>What_do_you_want_to_eat?</th>\n",
       "      <th>Fastfood</th>\n",
       "      <th>Restaurant</th>\n",
       "      <th>Money_spent</th>\n",
       "      <th>Choice</th>\n",
       "    </tr>\n",
       "  </thead>\n",
       "  <tbody>\n",
       "    <tr>\n",
       "      <th>0</th>\n",
       "      <td>n</td>\n",
       "      <td>NaN</td>\n",
       "      <td>NaN</td>\n",
       "      <td>NaN</td>\n",
       "      <td>0</td>\n",
       "      <td>Nothing</td>\n",
       "    </tr>\n",
       "    <tr>\n",
       "      <th>1</th>\n",
       "      <td>y</td>\n",
       "      <td>Food</td>\n",
       "      <td>Burger</td>\n",
       "      <td>NaN</td>\n",
       "      <td>15</td>\n",
       "      <td>Food</td>\n",
       "    </tr>\n",
       "    <tr>\n",
       "      <th>2</th>\n",
       "      <td>y</td>\n",
       "      <td>IDK</td>\n",
       "      <td>Chicken</td>\n",
       "      <td>NaN</td>\n",
       "      <td>20</td>\n",
       "      <td>Food</td>\n",
       "    </tr>\n",
       "    <tr>\n",
       "      <th>3</th>\n",
       "      <td>y</td>\n",
       "      <td>Anything</td>\n",
       "      <td>Tacos</td>\n",
       "      <td>NaN</td>\n",
       "      <td>10</td>\n",
       "      <td>Food</td>\n",
       "    </tr>\n",
       "    <tr>\n",
       "      <th>4</th>\n",
       "      <td>y</td>\n",
       "      <td>You_pick</td>\n",
       "      <td>NaN</td>\n",
       "      <td>korean</td>\n",
       "      <td>80</td>\n",
       "      <td>IDLT</td>\n",
       "    </tr>\n",
       "  </tbody>\n",
       "</table>\n",
       "</div>"
      ],
      "text/plain": [
       "  Do_you_want_to_eat? What_do_you_want_to_eat? Fastfood Restaurant  \\\n",
       "0                   n                      NaN      NaN        NaN   \n",
       "1                   y                     Food   Burger        NaN   \n",
       "2                   y                      IDK  Chicken        NaN   \n",
       "3                   y                 Anything    Tacos        NaN   \n",
       "4                   y                 You_pick      NaN     korean   \n",
       "\n",
       "   Money_spent   Choice  \n",
       "0            0  Nothing  \n",
       "1           15     Food  \n",
       "2           20     Food  \n",
       "3           10     Food  \n",
       "4           80     IDLT  "
      ]
     },
     "execution_count": 3,
     "metadata": {},
     "output_type": "execute_result"
    }
   ],
   "source": [
    "#Look at initial df\n",
    "df.head()"
   ]
  },
  {
   "cell_type": "markdown",
   "metadata": {},
   "source": [
    "As you can see most of data is categorical.  We need to deal with this."
   ]
  },
  {
   "cell_type": "code",
   "execution_count": 4,
   "metadata": {},
   "outputs": [
    {
     "name": "stdout",
     "output_type": "stream",
     "text": [
      "<class 'pandas.core.frame.DataFrame'>\n",
      "RangeIndex: 11 entries, 0 to 10\n",
      "Data columns (total 6 columns):\n",
      "Do_you_want_to_eat?         11 non-null object\n",
      "What_do_you_want_to_eat?    10 non-null object\n",
      "Fastfood                    3 non-null object\n",
      "Restaurant                  7 non-null object\n",
      "Money_spent                 11 non-null int64\n",
      "Choice                      11 non-null object\n",
      "dtypes: int64(1), object(5)\n",
      "memory usage: 608.0+ bytes\n",
      "None\n"
     ]
    }
   ],
   "source": [
    "#Get info regarding df\n",
    "print(df.info())"
   ]
  },
  {
   "cell_type": "markdown",
   "metadata": {},
   "source": [
    "As you can see most info is objects or categorical data"
   ]
  },
  {
   "cell_type": "code",
   "execution_count": 5,
   "metadata": {
    "scrolled": true
   },
   "outputs": [
    {
     "name": "stdout",
     "output_type": "stream",
     "text": [
      "  Do_you_want_to_eat? What_do_you_want_to_eat? Fastfood Restaurant   Choice\n",
      "0                   n                      NaN      NaN        NaN  Nothing\n",
      "1                   y                     Food   Burger        NaN     Food\n",
      "2                   y                      IDK  Chicken        NaN     Food\n",
      "3                   y                 Anything    Tacos        NaN     Food\n",
      "4                   y                 You_pick      NaN     korean     IDLT\n"
     ]
    }
   ],
   "source": [
    "#Seperating dtypes into own df\n",
    "print(df.select_dtypes(include=['object']).head())\n"
   ]
  },
  {
   "cell_type": "markdown",
   "metadata": {},
   "source": [
    "4 possible decisions"
   ]
  },
  {
   "cell_type": "code",
   "execution_count": 6,
   "metadata": {},
   "outputs": [
    {
     "name": "stdout",
     "output_type": "stream",
     "text": [
      "Burger     1\n",
      "Chicken    1\n",
      "Tacos      1\n",
      "Name: Fastfood, dtype: int64\n"
     ]
    }
   ],
   "source": [
    "print(df['Fastfood'].value_counts())  "
   ]
  },
  {
   "cell_type": "markdown",
   "metadata": {},
   "source": [
    "3 decisions for fast food and has a lower cardinality then the column asking What do you want to eat?\n",
    "We need to encode these categorical data into something we can use for any modeling we wish to do\n",
    "I decided to show some different encoding techniques to deal with this categorical data"
   ]
  },
  {
   "cell_type": "code",
   "execution_count": 7,
   "metadata": {},
   "outputs": [
    {
     "name": "stdout",
     "output_type": "stream",
     "text": [
      "y    10\n",
      "n     1\n",
      "Name: Do_you_want_to_eat?, dtype: int64\n"
     ]
    }
   ],
   "source": [
    "##Check categories for unique values and counts to find out cardinality \n",
    "print(df['Do_you_want_to_eat?'].value_counts())"
   ]
  },
  {
   "cell_type": "markdown",
   "metadata": {},
   "source": [
    "Seeing as there are only 2 unique values I could encode this the old fashion way using pandas."
   ]
  },
  {
   "cell_type": "code",
   "execution_count": 8,
   "metadata": {},
   "outputs": [
    {
     "data": {
      "text/html": [
       "<div>\n",
       "<style scoped>\n",
       "    .dataframe tbody tr th:only-of-type {\n",
       "        vertical-align: middle;\n",
       "    }\n",
       "\n",
       "    .dataframe tbody tr th {\n",
       "        vertical-align: top;\n",
       "    }\n",
       "\n",
       "    .dataframe thead th {\n",
       "        text-align: right;\n",
       "    }\n",
       "</style>\n",
       "<table border=\"1\" class=\"dataframe\">\n",
       "  <thead>\n",
       "    <tr style=\"text-align: right;\">\n",
       "      <th></th>\n",
       "      <th>Do_you_want_to_eat?</th>\n",
       "      <th>What_do_you_want_to_eat?</th>\n",
       "      <th>Fastfood</th>\n",
       "      <th>Restaurant</th>\n",
       "      <th>Money_spent</th>\n",
       "      <th>Choice</th>\n",
       "    </tr>\n",
       "  </thead>\n",
       "  <tbody>\n",
       "    <tr>\n",
       "      <th>0</th>\n",
       "      <td>0</td>\n",
       "      <td>NaN</td>\n",
       "      <td>NaN</td>\n",
       "      <td>NaN</td>\n",
       "      <td>0</td>\n",
       "      <td>Nothing</td>\n",
       "    </tr>\n",
       "    <tr>\n",
       "      <th>1</th>\n",
       "      <td>1</td>\n",
       "      <td>Food</td>\n",
       "      <td>Burger</td>\n",
       "      <td>NaN</td>\n",
       "      <td>15</td>\n",
       "      <td>Food</td>\n",
       "    </tr>\n",
       "    <tr>\n",
       "      <th>2</th>\n",
       "      <td>1</td>\n",
       "      <td>IDK</td>\n",
       "      <td>Chicken</td>\n",
       "      <td>NaN</td>\n",
       "      <td>20</td>\n",
       "      <td>Food</td>\n",
       "    </tr>\n",
       "    <tr>\n",
       "      <th>3</th>\n",
       "      <td>1</td>\n",
       "      <td>Anything</td>\n",
       "      <td>Tacos</td>\n",
       "      <td>NaN</td>\n",
       "      <td>10</td>\n",
       "      <td>Food</td>\n",
       "    </tr>\n",
       "    <tr>\n",
       "      <th>4</th>\n",
       "      <td>1</td>\n",
       "      <td>You_pick</td>\n",
       "      <td>NaN</td>\n",
       "      <td>korean</td>\n",
       "      <td>80</td>\n",
       "      <td>IDLT</td>\n",
       "    </tr>\n",
       "  </tbody>\n",
       "</table>\n",
       "</div>"
      ],
      "text/plain": [
       "   Do_you_want_to_eat? What_do_you_want_to_eat? Fastfood Restaurant  \\\n",
       "0                    0                      NaN      NaN        NaN   \n",
       "1                    1                     Food   Burger        NaN   \n",
       "2                    1                      IDK  Chicken        NaN   \n",
       "3                    1                 Anything    Tacos        NaN   \n",
       "4                    1                 You_pick      NaN     korean   \n",
       "\n",
       "   Money_spent   Choice  \n",
       "0            0  Nothing  \n",
       "1           15     Food  \n",
       "2           20     Food  \n",
       "3           10     Food  \n",
       "4           80     IDLT  "
      ]
     },
     "execution_count": 8,
     "metadata": {},
     "output_type": "execute_result"
    }
   ],
   "source": [
    "label = {'y':1, 'n':0}\n",
    "df['Do_you_want_to_eat?'] = df['Do_you_want_to_eat?'].map(label)\n",
    "df.head()"
   ]
  },
  {
   "cell_type": "markdown",
   "metadata": {},
   "source": [
    "Category encoder is a set of scikit-learn-style transformers for encoding categorical variables into numeric with different techniques.  Easy to use and works well with modeling.  \n",
    "Would install using  \n",
    "```pip install category_encoders```  \n",
    "or  \n",
    "```conda install -c conda-forge category_encoders```"
   ]
  },
  {
   "cell_type": "code",
   "execution_count": 9,
   "metadata": {},
   "outputs": [],
   "source": [
    "#Importing category encoder library\n",
    "import category_encoders as ce"
   ]
  },
  {
   "cell_type": "markdown",
   "metadata": {},
   "source": [
    "Next column I will be checking out What_do_you_want_to_eat? for unique values and cardinality"
   ]
  },
  {
   "cell_type": "code",
   "execution_count": 10,
   "metadata": {
    "scrolled": true
   },
   "outputs": [
    {
     "name": "stdout",
     "output_type": "stream",
     "text": [
      "Anything    6\n",
      "IDK         2\n",
      "You_pick    1\n",
      "Food        1\n",
      "Name: What_do_you_want_to_eat?, dtype: int64\n"
     ]
    }
   ],
   "source": [
    "##Check categories for unique values and counts to find out cardinality \n",
    "print(df['What_do_you_want_to_eat?'].value_counts())"
   ]
  },
  {
   "cell_type": "markdown",
   "metadata": {},
   "source": [
    "As you can see there are 4 unique values I will use one of the classic encoders called Onehot to encode this.\n",
    "One hot will give each value a column and it will either be 1 or a 0 depending if it is true or false."
   ]
  },
  {
   "cell_type": "code",
   "execution_count": 11,
   "metadata": {},
   "outputs": [
    {
     "data": {
      "text/html": [
       "<div>\n",
       "<style scoped>\n",
       "    .dataframe tbody tr th:only-of-type {\n",
       "        vertical-align: middle;\n",
       "    }\n",
       "\n",
       "    .dataframe tbody tr th {\n",
       "        vertical-align: top;\n",
       "    }\n",
       "\n",
       "    .dataframe thead th {\n",
       "        text-align: right;\n",
       "    }\n",
       "</style>\n",
       "<table border=\"1\" class=\"dataframe\">\n",
       "  <thead>\n",
       "    <tr style=\"text-align: right;\">\n",
       "      <th></th>\n",
       "      <th>Do_you_want_to_eat?</th>\n",
       "      <th>What_do_you_want_to_eat?_1</th>\n",
       "      <th>What_do_you_want_to_eat?_2</th>\n",
       "      <th>What_do_you_want_to_eat?_3</th>\n",
       "      <th>What_do_you_want_to_eat?_4</th>\n",
       "      <th>What_do_you_want_to_eat?_5</th>\n",
       "      <th>Fastfood</th>\n",
       "      <th>Restaurant</th>\n",
       "      <th>Money_spent</th>\n",
       "      <th>Choice</th>\n",
       "    </tr>\n",
       "  </thead>\n",
       "  <tbody>\n",
       "    <tr>\n",
       "      <th>0</th>\n",
       "      <td>0</td>\n",
       "      <td>1</td>\n",
       "      <td>0</td>\n",
       "      <td>0</td>\n",
       "      <td>0</td>\n",
       "      <td>0</td>\n",
       "      <td>NaN</td>\n",
       "      <td>NaN</td>\n",
       "      <td>0</td>\n",
       "      <td>Nothing</td>\n",
       "    </tr>\n",
       "    <tr>\n",
       "      <th>1</th>\n",
       "      <td>1</td>\n",
       "      <td>0</td>\n",
       "      <td>1</td>\n",
       "      <td>0</td>\n",
       "      <td>0</td>\n",
       "      <td>0</td>\n",
       "      <td>Burger</td>\n",
       "      <td>NaN</td>\n",
       "      <td>15</td>\n",
       "      <td>Food</td>\n",
       "    </tr>\n",
       "    <tr>\n",
       "      <th>2</th>\n",
       "      <td>1</td>\n",
       "      <td>0</td>\n",
       "      <td>0</td>\n",
       "      <td>1</td>\n",
       "      <td>0</td>\n",
       "      <td>0</td>\n",
       "      <td>Chicken</td>\n",
       "      <td>NaN</td>\n",
       "      <td>20</td>\n",
       "      <td>Food</td>\n",
       "    </tr>\n",
       "    <tr>\n",
       "      <th>3</th>\n",
       "      <td>1</td>\n",
       "      <td>0</td>\n",
       "      <td>0</td>\n",
       "      <td>0</td>\n",
       "      <td>1</td>\n",
       "      <td>0</td>\n",
       "      <td>Tacos</td>\n",
       "      <td>NaN</td>\n",
       "      <td>10</td>\n",
       "      <td>Food</td>\n",
       "    </tr>\n",
       "    <tr>\n",
       "      <th>4</th>\n",
       "      <td>1</td>\n",
       "      <td>0</td>\n",
       "      <td>0</td>\n",
       "      <td>0</td>\n",
       "      <td>0</td>\n",
       "      <td>1</td>\n",
       "      <td>NaN</td>\n",
       "      <td>korean</td>\n",
       "      <td>80</td>\n",
       "      <td>IDLT</td>\n",
       "    </tr>\n",
       "  </tbody>\n",
       "</table>\n",
       "</div>"
      ],
      "text/plain": [
       "   Do_you_want_to_eat?  What_do_you_want_to_eat?_1  \\\n",
       "0                    0                           1   \n",
       "1                    1                           0   \n",
       "2                    1                           0   \n",
       "3                    1                           0   \n",
       "4                    1                           0   \n",
       "\n",
       "   What_do_you_want_to_eat?_2  What_do_you_want_to_eat?_3  \\\n",
       "0                           0                           0   \n",
       "1                           1                           0   \n",
       "2                           0                           1   \n",
       "3                           0                           0   \n",
       "4                           0                           0   \n",
       "\n",
       "   What_do_you_want_to_eat?_4  What_do_you_want_to_eat?_5 Fastfood Restaurant  \\\n",
       "0                           0                           0      NaN        NaN   \n",
       "1                           0                           0   Burger        NaN   \n",
       "2                           0                           0  Chicken        NaN   \n",
       "3                           1                           0    Tacos        NaN   \n",
       "4                           0                           1      NaN     korean   \n",
       "\n",
       "   Money_spent   Choice  \n",
       "0            0  Nothing  \n",
       "1           15     Food  \n",
       "2           20     Food  \n",
       "3           10     Food  \n",
       "4           80     IDLT  "
      ]
     },
     "execution_count": 11,
     "metadata": {},
     "output_type": "execute_result"
    }
   ],
   "source": [
    "encoder = ce.OneHotEncoder(cols=['What_do_you_want_to_eat?'])\n",
    "df= encoder.fit_transform(df)\n",
    "df.head()"
   ]
  },
  {
   "cell_type": "markdown",
   "metadata": {},
   "source": [
    "It made 5 new one hot encoded columns for the 4 options and a 5th for Null value if no option was chosen"
   ]
  },
  {
   "cell_type": "code",
   "execution_count": 12,
   "metadata": {},
   "outputs": [
    {
     "name": "stdout",
     "output_type": "stream",
     "text": [
      "Burger     1\n",
      "Chicken    1\n",
      "Tacos      1\n",
      "Name: Fastfood, dtype: int64\n"
     ]
    }
   ],
   "source": [
    "##Check categories for unique values and counts to find out cardinality \n",
    "print(df['Fastfood'].value_counts())"
   ]
  },
  {
   "cell_type": "markdown",
   "metadata": {},
   "source": [
    "Another classic encoder that is used is binary encoder.  Binary encoder converts each integer to binary digits.  Each binary digit gets one column.   Some loss but fewer dimensions."
   ]
  },
  {
   "cell_type": "code",
   "execution_count": 13,
   "metadata": {
    "scrolled": true
   },
   "outputs": [
    {
     "data": {
      "text/html": [
       "<div>\n",
       "<style scoped>\n",
       "    .dataframe tbody tr th:only-of-type {\n",
       "        vertical-align: middle;\n",
       "    }\n",
       "\n",
       "    .dataframe tbody tr th {\n",
       "        vertical-align: top;\n",
       "    }\n",
       "\n",
       "    .dataframe thead th {\n",
       "        text-align: right;\n",
       "    }\n",
       "</style>\n",
       "<table border=\"1\" class=\"dataframe\">\n",
       "  <thead>\n",
       "    <tr style=\"text-align: right;\">\n",
       "      <th></th>\n",
       "      <th>Do_you_want_to_eat?</th>\n",
       "      <th>What_do_you_want_to_eat?_1</th>\n",
       "      <th>What_do_you_want_to_eat?_2</th>\n",
       "      <th>What_do_you_want_to_eat?_3</th>\n",
       "      <th>What_do_you_want_to_eat?_4</th>\n",
       "      <th>What_do_you_want_to_eat?_5</th>\n",
       "      <th>Fastfood_0</th>\n",
       "      <th>Fastfood_1</th>\n",
       "      <th>Fastfood_2</th>\n",
       "      <th>Restaurant</th>\n",
       "      <th>Money_spent</th>\n",
       "      <th>Choice</th>\n",
       "    </tr>\n",
       "  </thead>\n",
       "  <tbody>\n",
       "    <tr>\n",
       "      <th>0</th>\n",
       "      <td>0</td>\n",
       "      <td>1</td>\n",
       "      <td>0</td>\n",
       "      <td>0</td>\n",
       "      <td>0</td>\n",
       "      <td>0</td>\n",
       "      <td>0</td>\n",
       "      <td>0</td>\n",
       "      <td>1</td>\n",
       "      <td>NaN</td>\n",
       "      <td>0</td>\n",
       "      <td>Nothing</td>\n",
       "    </tr>\n",
       "    <tr>\n",
       "      <th>1</th>\n",
       "      <td>1</td>\n",
       "      <td>0</td>\n",
       "      <td>1</td>\n",
       "      <td>0</td>\n",
       "      <td>0</td>\n",
       "      <td>0</td>\n",
       "      <td>0</td>\n",
       "      <td>1</td>\n",
       "      <td>0</td>\n",
       "      <td>NaN</td>\n",
       "      <td>15</td>\n",
       "      <td>Food</td>\n",
       "    </tr>\n",
       "    <tr>\n",
       "      <th>2</th>\n",
       "      <td>1</td>\n",
       "      <td>0</td>\n",
       "      <td>0</td>\n",
       "      <td>1</td>\n",
       "      <td>0</td>\n",
       "      <td>0</td>\n",
       "      <td>0</td>\n",
       "      <td>1</td>\n",
       "      <td>1</td>\n",
       "      <td>NaN</td>\n",
       "      <td>20</td>\n",
       "      <td>Food</td>\n",
       "    </tr>\n",
       "    <tr>\n",
       "      <th>3</th>\n",
       "      <td>1</td>\n",
       "      <td>0</td>\n",
       "      <td>0</td>\n",
       "      <td>0</td>\n",
       "      <td>1</td>\n",
       "      <td>0</td>\n",
       "      <td>1</td>\n",
       "      <td>0</td>\n",
       "      <td>0</td>\n",
       "      <td>NaN</td>\n",
       "      <td>10</td>\n",
       "      <td>Food</td>\n",
       "    </tr>\n",
       "    <tr>\n",
       "      <th>4</th>\n",
       "      <td>1</td>\n",
       "      <td>0</td>\n",
       "      <td>0</td>\n",
       "      <td>0</td>\n",
       "      <td>0</td>\n",
       "      <td>1</td>\n",
       "      <td>0</td>\n",
       "      <td>0</td>\n",
       "      <td>1</td>\n",
       "      <td>korean</td>\n",
       "      <td>80</td>\n",
       "      <td>IDLT</td>\n",
       "    </tr>\n",
       "  </tbody>\n",
       "</table>\n",
       "</div>"
      ],
      "text/plain": [
       "   Do_you_want_to_eat?  What_do_you_want_to_eat?_1  \\\n",
       "0                    0                           1   \n",
       "1                    1                           0   \n",
       "2                    1                           0   \n",
       "3                    1                           0   \n",
       "4                    1                           0   \n",
       "\n",
       "   What_do_you_want_to_eat?_2  What_do_you_want_to_eat?_3  \\\n",
       "0                           0                           0   \n",
       "1                           1                           0   \n",
       "2                           0                           1   \n",
       "3                           0                           0   \n",
       "4                           0                           0   \n",
       "\n",
       "   What_do_you_want_to_eat?_4  What_do_you_want_to_eat?_5  Fastfood_0  \\\n",
       "0                           0                           0           0   \n",
       "1                           0                           0           0   \n",
       "2                           0                           0           0   \n",
       "3                           1                           0           1   \n",
       "4                           0                           1           0   \n",
       "\n",
       "   Fastfood_1  Fastfood_2 Restaurant  Money_spent   Choice  \n",
       "0           0           1        NaN            0  Nothing  \n",
       "1           1           0        NaN           15     Food  \n",
       "2           1           1        NaN           20     Food  \n",
       "3           0           0        NaN           10     Food  \n",
       "4           0           1     korean           80     IDLT  "
      ]
     },
     "execution_count": 13,
     "metadata": {},
     "output_type": "execute_result"
    }
   ],
   "source": [
    "encoder = ce.BinaryEncoder(cols=['Fastfood'])\n",
    "df = encoder.fit_transform(df)\n",
    "\n",
    "df.head()"
   ]
  },
  {
   "cell_type": "markdown",
   "metadata": {},
   "source": [
    "We will deal with the Restuarant column and find unique values"
   ]
  },
  {
   "cell_type": "code",
   "execution_count": 14,
   "metadata": {
    "scrolled": true
   },
   "outputs": [
    {
     "name": "stdout",
     "output_type": "stream",
     "text": [
      "italian       1\n",
      "korean        1\n",
      "mexican       1\n",
      "french        1\n",
      "japanese      1\n",
      "vietnamese    1\n",
      "american      1\n",
      "Name: Restaurant, dtype: int64\n"
     ]
    }
   ],
   "source": [
    "##Check categories for unique values and counts to find out cardinality \n",
    "print(df['Restaurant'].value_counts())"
   ]
  },
  {
   "cell_type": "markdown",
   "metadata": {},
   "source": [
    "Another classic encoder that is used is Ordinal encoder.  Ordinal encorder will use a single column of integers to represent classes.   Classes are assumed to have not true order and selected at random unless indicated."
   ]
  },
  {
   "cell_type": "code",
   "execution_count": 15,
   "metadata": {
    "scrolled": true
   },
   "outputs": [
    {
     "data": {
      "text/html": [
       "<div>\n",
       "<style scoped>\n",
       "    .dataframe tbody tr th:only-of-type {\n",
       "        vertical-align: middle;\n",
       "    }\n",
       "\n",
       "    .dataframe tbody tr th {\n",
       "        vertical-align: top;\n",
       "    }\n",
       "\n",
       "    .dataframe thead th {\n",
       "        text-align: right;\n",
       "    }\n",
       "</style>\n",
       "<table border=\"1\" class=\"dataframe\">\n",
       "  <thead>\n",
       "    <tr style=\"text-align: right;\">\n",
       "      <th></th>\n",
       "      <th>Do_you_want_to_eat?</th>\n",
       "      <th>What_do_you_want_to_eat?_1</th>\n",
       "      <th>What_do_you_want_to_eat?_2</th>\n",
       "      <th>What_do_you_want_to_eat?_3</th>\n",
       "      <th>What_do_you_want_to_eat?_4</th>\n",
       "      <th>What_do_you_want_to_eat?_5</th>\n",
       "      <th>Fastfood_0</th>\n",
       "      <th>Fastfood_1</th>\n",
       "      <th>Fastfood_2</th>\n",
       "      <th>Restaurant</th>\n",
       "      <th>Money_spent</th>\n",
       "      <th>Choice</th>\n",
       "    </tr>\n",
       "  </thead>\n",
       "  <tbody>\n",
       "    <tr>\n",
       "      <th>0</th>\n",
       "      <td>0</td>\n",
       "      <td>1</td>\n",
       "      <td>0</td>\n",
       "      <td>0</td>\n",
       "      <td>0</td>\n",
       "      <td>0</td>\n",
       "      <td>0</td>\n",
       "      <td>0</td>\n",
       "      <td>1</td>\n",
       "      <td>1</td>\n",
       "      <td>0</td>\n",
       "      <td>Nothing</td>\n",
       "    </tr>\n",
       "    <tr>\n",
       "      <th>1</th>\n",
       "      <td>1</td>\n",
       "      <td>0</td>\n",
       "      <td>1</td>\n",
       "      <td>0</td>\n",
       "      <td>0</td>\n",
       "      <td>0</td>\n",
       "      <td>0</td>\n",
       "      <td>1</td>\n",
       "      <td>0</td>\n",
       "      <td>1</td>\n",
       "      <td>15</td>\n",
       "      <td>Food</td>\n",
       "    </tr>\n",
       "    <tr>\n",
       "      <th>2</th>\n",
       "      <td>1</td>\n",
       "      <td>0</td>\n",
       "      <td>0</td>\n",
       "      <td>1</td>\n",
       "      <td>0</td>\n",
       "      <td>0</td>\n",
       "      <td>0</td>\n",
       "      <td>1</td>\n",
       "      <td>1</td>\n",
       "      <td>1</td>\n",
       "      <td>20</td>\n",
       "      <td>Food</td>\n",
       "    </tr>\n",
       "    <tr>\n",
       "      <th>3</th>\n",
       "      <td>1</td>\n",
       "      <td>0</td>\n",
       "      <td>0</td>\n",
       "      <td>0</td>\n",
       "      <td>1</td>\n",
       "      <td>0</td>\n",
       "      <td>1</td>\n",
       "      <td>0</td>\n",
       "      <td>0</td>\n",
       "      <td>1</td>\n",
       "      <td>10</td>\n",
       "      <td>Food</td>\n",
       "    </tr>\n",
       "    <tr>\n",
       "      <th>4</th>\n",
       "      <td>1</td>\n",
       "      <td>0</td>\n",
       "      <td>0</td>\n",
       "      <td>0</td>\n",
       "      <td>0</td>\n",
       "      <td>1</td>\n",
       "      <td>0</td>\n",
       "      <td>0</td>\n",
       "      <td>1</td>\n",
       "      <td>2</td>\n",
       "      <td>80</td>\n",
       "      <td>IDLT</td>\n",
       "    </tr>\n",
       "  </tbody>\n",
       "</table>\n",
       "</div>"
      ],
      "text/plain": [
       "   Do_you_want_to_eat?  What_do_you_want_to_eat?_1  \\\n",
       "0                    0                           1   \n",
       "1                    1                           0   \n",
       "2                    1                           0   \n",
       "3                    1                           0   \n",
       "4                    1                           0   \n",
       "\n",
       "   What_do_you_want_to_eat?_2  What_do_you_want_to_eat?_3  \\\n",
       "0                           0                           0   \n",
       "1                           1                           0   \n",
       "2                           0                           1   \n",
       "3                           0                           0   \n",
       "4                           0                           0   \n",
       "\n",
       "   What_do_you_want_to_eat?_4  What_do_you_want_to_eat?_5  Fastfood_0  \\\n",
       "0                           0                           0           0   \n",
       "1                           0                           0           0   \n",
       "2                           0                           0           0   \n",
       "3                           1                           0           1   \n",
       "4                           0                           1           0   \n",
       "\n",
       "   Fastfood_1  Fastfood_2  Restaurant  Money_spent   Choice  \n",
       "0           0           1           1            0  Nothing  \n",
       "1           1           0           1           15     Food  \n",
       "2           1           1           1           20     Food  \n",
       "3           0           0           1           10     Food  \n",
       "4           0           1           2           80     IDLT  "
      ]
     },
     "execution_count": 15,
     "metadata": {},
     "output_type": "execute_result"
    }
   ],
   "source": [
    "encoder = ce.OrdinalEncoder(cols = ['Restaurant'])\n",
    "# ce_leave.fit(X3, y3['outcome'])        \n",
    "# ce_leave.transform(X3, y3['outcome']) \n",
    "df = encoder.fit_transform(df)\n",
    "\n",
    "df.head()"
   ]
  },
  {
   "cell_type": "markdown",
   "metadata": {},
   "source": [
    "Assigned an integer to each value into a single column"
   ]
  },
  {
   "cell_type": "code",
   "execution_count": 19,
   "metadata": {},
   "outputs": [
    {
     "name": "stdout",
     "output_type": "stream",
     "text": [
      "IDLT       7\n",
      "Food       3\n",
      "Nothing    1\n",
      "Name: Choice, dtype: int64\n"
     ]
    }
   ],
   "source": [
    "##Check categories for unique values and counts to find out cardinality \n",
    "print(df['Choice'].value_counts())"
   ]
  },
  {
   "cell_type": "code",
   "execution_count": null,
   "metadata": {},
   "outputs": [],
   "source": []
  }
 ],
 "metadata": {
  "kernelspec": {
   "display_name": "Python 3",
   "language": "python",
   "name": "python3"
  },
  "language_info": {
   "codemirror_mode": {
    "name": "ipython",
    "version": 3
   },
   "file_extension": ".py",
   "mimetype": "text/x-python",
   "name": "python",
   "nbconvert_exporter": "python",
   "pygments_lexer": "ipython3",
   "version": "3.7.3"
  }
 },
 "nbformat": 4,
 "nbformat_minor": 2
}
